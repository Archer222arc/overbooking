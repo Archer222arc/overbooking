{
 "cells": [
  {
   "cell_type": "code",
   "execution_count": 7,
   "metadata": {},
   "outputs": [
    {
     "name": "stdout",
     "output_type": "stream",
     "text": [
      "          Hotel  Is_Canceled  Lead_Time  Arrival_Year Arrival_Month  \\\n",
      "0  Resort Hotel            0        342          2015          July   \n",
      "1  Resort Hotel            0        737          2015          July   \n",
      "2  Resort Hotel            0          7          2015          July   \n",
      "3  Resort Hotel            0         13          2015          July   \n",
      "4  Resort Hotel            0         14          2015          July   \n",
      "\n",
      "   Arrival_Week_Number  Arrival_Day  Weekend_Nights  Week_Nights  \\\n",
      "0                   27            1               0            0   \n",
      "1                   27            1               0            0   \n",
      "2                   27            1               0            1   \n",
      "3                   27            1               0            1   \n",
      "4                   27            1               0            2   \n",
      "\n",
      "  Reserved_Room_Type Assigned_Room_Type Reservation_Status  \\\n",
      "0                  C                  C          Check-Out   \n",
      "1                  C                  C          Check-Out   \n",
      "2                  A                  C          Check-Out   \n",
      "3                  A                  A          Check-Out   \n",
      "4                  A                  A          Check-Out   \n",
      "\n",
      "  Reservation_Status_Date  \n",
      "0              01/07/2015  \n",
      "1              01/07/2015  \n",
      "2              02/07/2015  \n",
      "3              02/07/2015  \n",
      "4              03/07/2015  \n"
     ]
    }
   ],
   "source": [
    "import pandas as pd\n",
    "\n",
    "# Load the dataset\n",
    "file_path = 'hotel_booking_data_cleaned.csv'  # Update with the correct path to your file\n",
    "hotel_data = pd.read_csv(file_path)\n",
    "\n",
    "# List of columns to delete\n",
    "columns_to_delete = [\n",
    "    'adults', 'children', 'babies', 'meal', 'country', 'market_segment',\n",
    "    'distribution_channel', 'is_repeated_guest', 'previous_cancellations',\n",
    "    'previous_bookings_not_canceled', 'booking_changes', 'deposit_type', 'agent', 'company',\n",
    "    'days_in_waiting_list', 'customer_type', 'adr', 'required_car_parking_spaces',\n",
    "    'total_of_special_requests'\n",
    "]\n",
    "\n",
    "# Drop the specified columns from the dataset if they exist\n",
    "columns_to_delete = [col for col in columns_to_delete if col in hotel_data.columns]\n",
    "hotel_data_cleaned = hotel_data.drop(columns=columns_to_delete)\n",
    "\n",
    "# Corrected column names for better readability\n",
    "corrected_column_names = {\n",
    "    'hotel': 'Hotel',\n",
    "    'is_canceled': 'Is_Canceled',\n",
    "    'lead_time': 'Lead_Time',\n",
    "    'arrival_date_year': 'Arrival_Year',\n",
    "    'arrival_date_month': 'Arrival_Month',\n",
    "    'arrival_date_week_number': 'Arrival_Week_Number',\n",
    "    'arrival_date_day_of_month': 'Arrival_Day',\n",
    "    'stays_in_weekend_nights': 'Weekend_Nights',\n",
    "    'stays_in_week_nights': 'Week_Nights',\n",
    "    'reserved_room_type': 'Reserved_Room_Type',\n",
    "    'assigned_room_type': 'Assigned_Room_Type',\n",
    "    'reservation_status': 'Reservation_Status',\n",
    "    'reservation_status_date': 'Reservation_Status_Date'\n",
    "}\n",
    "\n",
    "# Rename the columns using corrected names\n",
    "hotel_data_cleaned.rename(columns=corrected_column_names, inplace=True)\n",
    "\n",
    "# Save the cleaned dataset\n",
    "hotel_data_cleaned.to_csv('hotel_booking_data_cleaned.csv', index=False)\n",
    "\n",
    "# Display the first few rows of the cleaned dataset to verify the changes\n",
    "print(hotel_data_cleaned.head())\n"
   ]
  },
  {
   "cell_type": "code",
   "execution_count": 8,
   "metadata": {},
   "outputs": [
    {
     "name": "stdout",
     "output_type": "stream",
     "text": [
      "Data for each hotel and room type has been saved into separate CSV files.\n"
     ]
    }
   ],
   "source": [
    "unique_hotels = hotel_data_cleaned['Hotel'].unique()\n",
    "unique_room_types = hotel_data_cleaned['Reserved_Room_Type'].unique()\n",
    "\n",
    "# Split the data by hotel and room type and save to different files\n",
    "for hotel in unique_hotels:\n",
    "    hotel_data = hotel_data_cleaned[hotel_data_cleaned['Hotel'] == hotel]\n",
    "    for room_type in unique_room_types:\n",
    "        room_data = hotel_data[hotel_data['Reserved_Room_Type'] == room_type]\n",
    "        file_name = f'hotel_booking_data_{hotel}_{room_type}.csv'\n",
    "        room_data.to_csv(file_name, index=False)\n",
    "\n",
    "print(f\"Data for each hotel and room type has been saved into separate CSV files.\")\n"
   ]
  },
  {
   "cell_type": "code",
   "execution_count": 14,
   "metadata": {},
   "outputs": [
    {
     "name": "stdout",
     "output_type": "stream",
     "text": [
      "        Date  Assigned_Type_A_Count  Reserved_Type_A_Count\n",
      "0 2015-07-01                     11                     18\n",
      "1 2015-07-02                     18                     26\n",
      "2 2015-07-03                     26                     36\n",
      "3 2015-07-04                     39                     49\n",
      "4 2015-07-05                     50                     64\n"
     ]
    }
   ],
   "source": [
    "import pandas as pd\n",
    "import datetime\n",
    "\n",
    "# Load your cleaned dataset\n",
    "file_path = 'hotel_booking_data_cleaned_v3.csv'  # Update with the correct path to your file\n",
    "hotel_data_cleaned = pd.read_csv(file_path)\n",
    "\n",
    "# Filter data for 'Resort Hotel' using .loc to avoid SettingWithCopyWarning\n",
    "resort_hotel_data = hotel_data_cleaned.loc[hotel_data_cleaned['Hotel'] == 'Resort Hotel'].copy()\n",
    "\n",
    "# Convert Arrival_Year, Arrival_Day to integers\n",
    "resort_hotel_data.loc[:, 'Arrival_Year'] = resort_hotel_data['Arrival_Year'].astype(int)\n",
    "resort_hotel_data.loc[:, 'Arrival_Day'] = resort_hotel_data['Arrival_Day'].astype(int)\n",
    "\n",
    "# Convert Arrival_Month from month names to numerical values\n",
    "month_mapping = {\n",
    "    'January': 1, 'February': 2, 'March': 3, 'April': 4, 'May': 5, 'June': 6,\n",
    "    'July': 7, 'August': 8, 'September': 9, 'October': 10, 'November': 11, 'December': 12\n",
    "}\n",
    "resort_hotel_data.loc[:, 'Arrival_Month'] = resort_hotel_data['Arrival_Month'].map(month_mapping)\n",
    "\n",
    "# Function to get arrival date from year, month, day columns\n",
    "def get_arrival_date(row):\n",
    "    return datetime.datetime(row['Arrival_Year'], row['Arrival_Month'], row['Arrival_Day'])\n",
    "\n",
    "# Add a column for the arrival date\n",
    "resort_hotel_data.loc[:, 'Arrival_Date'] = resort_hotel_data.apply(get_arrival_date, axis=1)\n",
    "\n",
    "# Calculate the departure date by adding the stay duration\n",
    "resort_hotel_data.loc[:, 'Departure_Date'] = resort_hotel_data['Arrival_Date'] + pd.to_timedelta(resort_hotel_data['Weekend_Nights'] + resort_hotel_data['Week_Nights'], unit='D')\n",
    "\n",
    "# Create an empty DataFrame to record daily occupancy for Type A rooms\n",
    "date_range = pd.date_range(start=resort_hotel_data['Arrival_Date'].min(), end=resort_hotel_data['Departure_Date'].max())\n",
    "daily_occupancy = pd.DataFrame(date_range, columns=['Date'])\n",
    "daily_occupancy['Assigned_Type_A_Count'] = 0\n",
    "daily_occupancy['Reserved_Type_A_Count'] = 0\n",
    "\n",
    "# Calculate occupancy for assigned Type A rooms\n",
    "for index, row in resort_hotel_data[resort_hotel_data['Assigned_Room_Type'] == 'A'].iterrows():\n",
    "    # Mark the occupancy for each day the room is occupied\n",
    "    daily_occupancy.loc[(daily_occupancy['Date'] >= row['Arrival_Date']) & (daily_occupancy['Date'] < row['Departure_Date']), 'Assigned_Type_A_Count'] += 1\n",
    "\n",
    "# Calculate occupancy for reserved Type A rooms\n",
    "for index, row in resort_hotel_data[resort_hotel_data['Reserved_Room_Type'] == 'A'].iterrows():\n",
    "    # Mark the reservation for each day the room is reserved\n",
    "    daily_occupancy.loc[(daily_occupancy['Date'] >= row['Arrival_Date']) & (daily_occupancy['Date'] < row['Departure_Date']), 'Reserved_Type_A_Count'] += 1\n",
    "\n",
    "# Save the result to CSV file\n",
    "daily_occupancy.to_csv('daily_type_a_occupancy.csv', index=False)\n",
    "\n",
    "# Display the first few rows of the summary to verify\n",
    "print(daily_occupancy.head())\n",
    "\n"
   ]
  },
  {
   "cell_type": "code",
   "execution_count": 19,
   "metadata": {},
   "outputs": [
    {
     "name": "stdout",
     "output_type": "stream",
     "text": [
      "   Type Reservation Day Check-in Day  Occupancy_duration  Decision Cancel_Date\n",
      "2  True      2015-06-24   2015-07-01                   1         1         NaT\n",
      "3  True      2015-06-18   2015-07-01                   1         1         NaT\n",
      "4  True      2015-06-17   2015-07-01                   2         1         NaT\n",
      "5  True      2015-06-17   2015-07-01                   2         1         NaT\n",
      "8  True      2015-04-07   2015-07-01                   3         0  2015-05-06\n"
     ]
    }
   ],
   "source": [
    "import pandas as pd\n",
    "\n",
    "# Filter data for Type A reservations in Resort Hotel without excluding canceled reservations\n",
    "type_a_reservations_all = resort_hotel_data[resort_hotel_data['Reserved_Room_Type'] == 'A']\n",
    "\n",
    "# Prepare a new DataFrame with specific columns required\n",
    "reservation_dtype_all = pd.DataFrame({\n",
    "    'Type': [True] * len(type_a_reservations_all),\n",
    "    # Calculate Reservation Day as Check-in Day minus Lead Time and convert to datetime\n",
    "    'Reservation Day': (pd.to_datetime(type_a_reservations_all['Arrival_Date'], dayfirst=True) - pd.to_timedelta(type_a_reservations_all['Lead_Time'], unit='D')).dt.date,\n",
    "    'Check-in Day': pd.to_datetime(type_a_reservations_all['Arrival_Date'], dayfirst=True).dt.date,\n",
    "    'Occupancy_duration': (type_a_reservations_all['Departure_Date'] - type_a_reservations_all['Arrival_Date']).dt.days,\n",
    "    'Decision': [1 if status != 'Canceled' else 0 for status in type_a_reservations_all['Reservation_Status']],\n",
    "    # Add Cancel Date, with value equal to Reservation_Status_Date for canceled reservations and NaN otherwise\n",
    "    'Cancel_Date': pd.to_datetime(type_a_reservations_all['Reservation_Status_Date'], dayfirst=True).where(type_a_reservations_all['Reservation_Status'] == 'Canceled', pd.NaT).dt.date\n",
    "})\n",
    "\n",
    "# Save the new table as CSV\n",
    "reservation_dtype_all.to_csv('type_a_reservations_summary_with_cancel_info_dates.csv', index=False)\n",
    "\n",
    "# Display the first few rows of the table to verify\n",
    "print(reservation_dtype_all.head())\n"
   ]
  }
 ],
 "metadata": {
  "kernelspec": {
   "display_name": "base",
   "language": "python",
   "name": "python3"
  },
  "language_info": {
   "codemirror_mode": {
    "name": "ipython",
    "version": 3
   },
   "file_extension": ".py",
   "mimetype": "text/x-python",
   "name": "python",
   "nbconvert_exporter": "python",
   "pygments_lexer": "ipython3",
   "version": "3.10.10"
  }
 },
 "nbformat": 4,
 "nbformat_minor": 2
}
